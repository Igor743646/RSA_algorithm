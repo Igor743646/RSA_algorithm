{
 "cells": [
  {
   "cell_type": "markdown",
   "metadata": {},
   "source": [
    "<h1>RSA - алгоритм</h1>"
   ]
  },
  {
   "cell_type": "markdown",
   "metadata": {},
   "source": [
    "<h2>Проверка числа на простоту с использованием теста Миллера — Рабина</h2>\n",
    "\n",
    "<p>\n",
    "Уверждение:\n",
    "\n",
    "Пусть $n$ — простое число и $n-1=2^sd$, где $d$ — нечётно. Тогда для любого $a$ из &#8484; выполняется хотя бы одно из условий:\n",
    "\n",
    "    \n",
    "1. $a^d ≡ 1\\ (mod\\ n)$\n",
    "2. Существует целое число $r < s$ такое что $a^{2^{r}d} ≡ -1\\ (mod\\ n)$\n",
    "\n",
    "    \n",
    "Так как алгоритм является вероятностным, то следует отметить, что вероятность ошибки не превосходит $\\frac{1}{4^k}$, где $k$ - количество чисел $a$, потенциально являющиеся свидетялями простоты. $k$ выбирается порядка $log_2(n)$\n",
    "</p>"
   ]
  },
  {
   "cell_type": "code",
   "execution_count": 1,
   "metadata": {},
   "outputs": [],
   "source": [
    "def IsPrime(n):\n",
    "    if n == 1: return False\n",
    "    \n",
    "    import math, random\n",
    "    \n",
    "    # проверка на делимость в пределах 257 делителей\n",
    "    for i in range(2, min(257, math.ceil(math.sqrt(n))) ):\n",
    "        if n % i == 0:\n",
    "            return False\n",
    "    \n",
    "    # тест Миллера — Рабина\n",
    "    k = max(math.ceil(math.log(n, 2)), 10)\n",
    "    \n",
    "    s = 0\n",
    "    d = n - 1\n",
    "    \n",
    "    while d % 2 == 0:\n",
    "        s += 1\n",
    "        d //= 2\n",
    "    \n",
    "    for _ in range(k):\n",
    "        a_k = random.randint(2, n - 2)\n",
    "        x = pow(a_k, d, n)\n",
    "        \n",
    "        if x == 1 or x == n - 1: # проверка на первое условие\n",
    "            continue\n",
    "        \n",
    "        flag = False\n",
    "        for _ in range(s - 1): # проверка на второе условие\n",
    "            x = pow(x, 2, n)\n",
    "            if x == 1:\n",
    "                return False\n",
    "            if x == n - 1:\n",
    "                flag = True\n",
    "                break\n",
    "        \n",
    "        if flag:\n",
    "            continue\n",
    "            \n",
    "        return False\n",
    "    return True"
   ]
  },
  {
   "cell_type": "markdown",
   "metadata": {},
   "source": [
    "<h2>Генерация простого числа с заданным количеством бит</h2>"
   ]
  },
  {
   "cell_type": "code",
   "execution_count": 2,
   "metadata": {},
   "outputs": [],
   "source": [
    "def GenPrimeNumber(k = 1024):\n",
    "    import random\n",
    "    \n",
    "    bits = [random.choice([0, 1]) for _ in range(k)]\n",
    "    \n",
    "    bits[0], bits[-1] = 1, 1\n",
    "    \n",
    "    def ToNum(lst):\n",
    "        k = 0\n",
    "        result = 0\n",
    "\n",
    "        for i in lst:\n",
    "            result += i * (2 ** k)\n",
    "            k += 1\n",
    "\n",
    "        return result\n",
    "    \n",
    "    result = ToNum(bits)\n",
    "    \n",
    "    while not IsPrime(result):\n",
    "        result += 2\n",
    "        \n",
    "    return result"
   ]
  },
  {
   "cell_type": "markdown",
   "metadata": {},
   "source": [
    "<h2>Расширенный алгоритм Евклида для задачи $de ≡ 1\\ (mod\\ φ(n))$</h2>"
   ]
  },
  {
   "cell_type": "code",
   "execution_count": 3,
   "metadata": {},
   "outputs": [],
   "source": [
    "def Inverse(e, phi_n):\n",
    "    t = 0   \n",
    "    newt = 1\n",
    "    r = phi_n     \n",
    "    newr = e\n",
    "\n",
    "    while newr != 0:\n",
    "        quotient = r // newr\n",
    "        t, newt = newt, t - quotient * newt\n",
    "        r, newr = newr, r - quotient * newr\n",
    "\n",
    "    if r > 1:\n",
    "        return \"не обратимо\"\n",
    "    if t < 0:\n",
    "        t = t + phi_n\n",
    "\n",
    "    return t"
   ]
  },
  {
   "cell_type": "markdown",
   "metadata": {},
   "source": [
    "<h2>RSA - алгоритм</h2>"
   ]
  },
  {
   "cell_type": "code",
   "execution_count": 4,
   "metadata": {},
   "outputs": [],
   "source": [
    "def RSA(k = 1024):\n",
    "    import random\n",
    "    \n",
    "    p = GenPrimeNumber(k)\n",
    "    q = GenPrimeNumber(k)\n",
    "    \n",
    "    n = p * q\n",
    "    phi_n = (p - 1) * (q - 1)\n",
    "    e = random.choice([17, 257, 65537, GenPrimeNumber(10)])\n",
    "    d = Inverse(e, phi_n)\n",
    "    \n",
    "    return [(e, n), (d, n)]"
   ]
  },
  {
   "cell_type": "code",
   "execution_count": 5,
   "metadata": {},
   "outputs": [
    {
     "name": "stdout",
     "output_type": "stream",
     "text": [
      "(257, 11547392519580649211156652769808706886762256656509668165678521993230255233272719864671570677068135557589172463595636685463909095724006149462027507446682621733310072514846549449367574923643146790867742379075276234450579350747703862300246506084787469564152337746166401429058093312836230559064975976682403187046882796407301375324745177711284935001132248072019300331556577579331232203163335819640506992792542905395183582932254182699803492092029859147326587048134092579646761273519077304122256036895659898292963630450087169994481341424987639022246888628055123836564814065474296620972659671230527427798903521081878402355649)\n"
     ]
    }
   ],
   "source": [
    "open_key, secret_key = RSA()\n",
    "print(open_key)"
   ]
  },
  {
   "cell_type": "markdown",
   "metadata": {},
   "source": [
    "<h2>Пример (плохой) шифрования</h2>"
   ]
  },
  {
   "cell_type": "code",
   "execution_count": 6,
   "metadata": {},
   "outputs": [],
   "source": [
    "def Encrypt(message, open_key):\n",
    "    import random\n",
    "    \n",
    "    lst = [random.randint(1, 1000)] + [ord(i) for i in message]\n",
    "    \n",
    "    a = 0\n",
    "    \n",
    "    for i in range(len(lst)):\n",
    "        lst[i] = lst[i] + a\n",
    "        a = lst[i]\n",
    "    \n",
    "    return [pow(i, *open_key) for i in lst]\n",
    "\n",
    "def Decrypt(lst, secret_key):\n",
    "    temp_lst = [pow(i, *secret_key) for i in lst]\n",
    "    \n",
    "    message = \"\"\n",
    "    \n",
    "    a = 0\n",
    "    \n",
    "    for i in range(len(lst)):\n",
    "        message += chr(temp_lst[i] - a)\n",
    "        a = temp_lst[i]\n",
    "        \n",
    "    return message[1:]"
   ]
  },
  {
   "cell_type": "code",
   "execution_count": 7,
   "metadata": {},
   "outputs": [
    {
     "data": {
      "text/plain": [
       "'Hellow, World!'"
      ]
     },
     "execution_count": 7,
     "metadata": {},
     "output_type": "execute_result"
    }
   ],
   "source": [
    "message = \"Hellow, World!\"\n",
    "en = Encrypt(message, open_key)\n",
    "Decrypt(en, secret_key)"
   ]
  }
 ],
 "metadata": {
  "kernelspec": {
   "display_name": "Python 3",
   "language": "python",
   "name": "python3"
  },
  "language_info": {
   "codemirror_mode": {
    "name": "ipython",
    "version": 3
   },
   "file_extension": ".py",
   "mimetype": "text/x-python",
   "name": "python",
   "nbconvert_exporter": "python",
   "pygments_lexer": "ipython3",
   "version": "3.7.7"
  }
 },
 "nbformat": 4,
 "nbformat_minor": 5
}
